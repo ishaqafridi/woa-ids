{
  "cells": [
    {
      "cell_type": "code",
      "execution_count": null,
      "metadata": {
        "colab": {
          "base_uri": "https://localhost:8080/"
        },
        "id": "y6lrHij6s8wN",
        "outputId": "fef23962-ec82-4adf-8af5-7f9e8d03a758"
      },
      "outputs": [
        {
          "output_type": "stream",
          "name": "stdout",
          "text": [
            "Downloading from https://www.kaggle.com/api/v1/datasets/download/azalhowaide/iot-dataset-for-intrusion-detection-systems-ids?dataset_version_number=2...\n"
          ]
        },
        {
          "output_type": "stream",
          "name": "stderr",
          "text": [
            "100%|██████████| 525M/525M [00:13<00:00, 41.4MB/s]"
          ]
        },
        {
          "output_type": "stream",
          "name": "stdout",
          "text": [
            "Extracting files...\n"
          ]
        },
        {
          "output_type": "stream",
          "name": "stderr",
          "text": [
            "\n"
          ]
        },
        {
          "output_type": "stream",
          "name": "stdout",
          "text": [
            "Path to dataset files: /root/.cache/kagglehub/datasets/azalhowaide/iot-dataset-for-intrusion-detection-systems-ids/versions/2\n"
          ]
        }
      ],
      "source": [
        "import kagglehub\n",
        "\n",
        "# Download latest version\n",
        "path = kagglehub.dataset_download(\"azalhowaide/iot-dataset-for-intrusion-detection-systems-ids\")\n",
        "\n",
        "print(\"Path to dataset files:\", path)"
      ]
    },
    {
      "cell_type": "code",
      "execution_count": null,
      "metadata": {
        "id": "d35HWFPzs_AA"
      },
      "outputs": [],
      "source": [
        "import pandas as pd\n",
        "import numpy as np\n",
        "from sklearn.ensemble import RandomForestClassifier\n",
        "from sklearn.model_selection import train_test_split\n",
        "from sklearn.metrics import accuracy_score\n",
        "import matplotlib.pyplot as plt\n",
        "from sklearn.preprocessing import OneHotEncoder\n",
        "from sklearn.compose import ColumnTransformer\n",
        "from sklearn.pipeline import Pipeline\n",
        "import os\n",
        "\n",
        "# Load dataset\n",
        "# Replace 'path/to/your/csv_file.csv' with the actual path to your CSV file\n",
        "csv_file_path = os.path.join(path, 'BoTNeTIoT-L01-v2.csv')\n",
        "df = pd.read_csv(csv_file_path)\n",
        "\n",
        "# Preprocessing: Example assumes 'Label' column for binary and 'Category' for multiclass\n",
        "df = df.dropna()\n",
        "\n",
        "# Separate features and labels\n",
        "X = df.drop(columns=['Attack', 'Attack_subType'])  # Features\n",
        "y_binary = df['Attack'].map({'Normal': 0, 'gafgyt': 1, 'mirai': 1})  # Binary labels - Assuming 'Attack' is the binary label\n",
        "y_category = df['Attack_subType']  # Multiclass labels - Assuming 'Attack_subType' is the multiclass label\n",
        "\n",
        "# Drop rows with NaN in y_binary\n",
        "X = X[y_binary.notna()]\n",
        "y_binary = y_binary.dropna()\n",
        "\n",
        "# Identify categorical columns for one-hot encoding\n",
        "categorical_features = X.select_dtypes(include=['object']).columns\n",
        "\n",
        "# Create a column transformer for one-hot encoding\n",
        "preprocessor = ColumnTransformer(\n",
        "    transformers=[\n",
        "        ('cat', OneHotEncoder(handle_unknown='ignore'), categorical_features)],\n",
        "    remainder='passthrough')\n",
        "\n",
        "# Whale Optimization Algorithm (simplified)\n",
        "def whale_optimize(X, y, n_iter=5, n_whales=5):\n",
        "    best_params = {'n_estimators': 30, 'max_depth': 5}\n",
        "    best_score = 0\n",
        "    for _ in range(n_iter):\n",
        "        for _ in range(n_whales):\n",
        "            params = {\n",
        "                'n_estimators': np.random.randint(20, 50),\n",
        "                'max_depth': np.random.randint(2, 7)\n",
        "            }\n",
        "            # Create a pipeline with preprocessing and the model\n",
        "            clf_pipeline = Pipeline(steps=[('preprocessor', preprocessor),\n",
        "                                           ('classifier', RandomForestClassifier(**params))])\n",
        "\n",
        "            clf_pipeline.fit(X, y)\n",
        "            score = clf_pipeline.score(X, y)\n",
        "            if score > best_score:\n",
        "                best_score = score\n",
        "                best_params = params\n",
        "    return best_params\n",
        "\n",
        "# Split data\n",
        "X_train_b, X_test_b, y_train_b, y_test_b = train_test_split(X, y_binary, test_size=0.3, random_state=42)\n",
        "X_train_c, X_test_c, y_train_c, y_test_c = train_test_split(X, y_category, test_size=0.3, random_state=42)\n",
        "\n",
        "# Optimize and train binary classifier\n",
        "params_b = whale_optimize(X_train_b, y_train_b)\n",
        "clf_b_pipeline = Pipeline(steps=[('preprocessor', preprocessor),\n",
        "                                 ('classifier', RandomForestClassifier(**params_b))])\n",
        "clf_b_pipeline.fit(X_train_b, y_train_b)\n",
        "acc_b = accuracy_score(y_test_b, clf_b_pipeline.predict(X_test_b))\n",
        "\n",
        "# Optimize and train category classifier\n",
        "params_c = whale_optimize(X_train_c, y_train_c)\n",
        "clf_c_pipeline = Pipeline(steps=[('preprocessor', preprocessor),\n",
        "                                 ('classifier', RandomForestClassifier(**params_c))])\n",
        "clf_c_pipeline.fit(X_train_c, y_train_c)\n",
        "acc_c = accuracy_score(y_test_c, clf_c_pipeline.predict(X_test_c))\n",
        "\n",
        "# Plot comparison bar chart\n",
        "plt.figure(figsize=(6, 5))\n",
        "bars = plt.bar(['AC'], [acc_b * 100], color='blue', label='Binary Classification of IoTID20')\n",
        "bars2 = plt.bar(['AC'], [acc_c * 100], color='orange', label='Category Classification of IoTID20', alpha=0.7)\n",
        "plt.ylim(0, 100)\n",
        "plt.ylabel('Percentage (%)')\n",
        "plt.title('Classification Accuracy Comparison')\n",
        "plt.legend(loc='upper right')\n",
        "plt.tight_layout()\n",
        "plt.savefig('classification_comparison.png', dpi=300)\n",
        "plt.show()\n",
        "\n",
        "print(f\"Binary Accuracy: {acc_b:.2%}\")\n",
        "print(f\"Category Accuracy: {acc_c:.2%}\")"
      ]
    },
    {
      "cell_type": "code",
      "execution_count": null,
      "metadata": {
        "id": "SSjbFPtr1rO4"
      },
      "outputs": [],
      "source": []
    },
    {
      "cell_type": "code",
      "execution_count": null,
      "metadata": {
        "colab": {
          "base_uri": "https://localhost:8080/"
        },
        "id": "1fde7cae",
        "outputId": "eb5b3540-e3be-49ce-a805-fbe683479192"
      },
      "outputs": [
        {
          "name": "stdout",
          "output_type": "stream",
          "text": [
            "['gafgyt' 'mirai' 'Normal']\n",
            "Attack\n",
            "NaN    6506674\n",
            "0.0     555932\n",
            "Name: count, dtype: int64\n"
          ]
        }
      ],
      "source": [
        "print(df['Attack'].unique())\n",
        "print(y_binary.value_counts(dropna=False))"
      ]
    },
    {
      "cell_type": "code",
      "execution_count": null,
      "metadata": {
        "id": "DRyKWERp1twx"
      },
      "outputs": [],
      "source": [
        "import pandas as pd\n",
        "import numpy as np\n",
        "from sklearn.ensemble import RandomForestClassifier\n",
        "from sklearn.model_selection import train_test_split\n",
        "from sklearn.metrics import accuracy_score\n",
        "import matplotlib.pyplot as plt\n",
        "from sklearn.preprocessing import OneHotEncoder\n",
        "from sklearn.compose import ColumnTransformer\n",
        "from sklearn.pipeline import make_pipeline\n",
        "import joblib  # For potential parallelization\n",
        "\n",
        "# Load dataset (replace with your actual path)\n",
        "df = pd.read_csv('/kaggle/input/iot-dataset-for-intrusion-detection-systems-ids/BoTNeTIoT-L01-v2.csv').dropna()\n",
        "\n",
        "# Preprocessing - Convert to categorical if not already\n",
        "X = df.drop(columns=['Attack', 'Attack_subType'])\n",
        "y_binary = df['Attack'].map({'Normal': 0, 'gafgyt': 1, 'mirai': 1})\n",
        "y_category = df['Attack_subType']\n",
        "\n",
        "# Fast OneHot Encoding setup\n",
        "categorical_cols = X.select_dtypes(include=['object']).columns\n",
        "preprocessor = ColumnTransformer(\n",
        "    [('cat', OneHotEncoder(handle_unknown='ignore', sparse_output=False), categorical_cols)],\n",
        "    remainder='passthrough'\n",
        ")\n",
        "\n",
        "# Simplified Whale Optimization (Reduced iterations)\n",
        "def quick_whale_optimize(X, y, n_iter=3, n_whales=3):\n",
        "    best_params = {'n_estimators': 30, 'max_depth': 5}\n",
        "    best_score = 0\n",
        "    for _ in range(n_iter):\n",
        "        params = {\n",
        "            'n_estimators': np.random.randint(20, 50),\n",
        "            'max_depth': np.random.randint(3, 10)\n",
        "        }\n",
        "        model = make_pipeline(preprocessor,\n",
        "                             RandomForestClassifier(**params, n_jobs=-1))  # Parallel trees\n",
        "        model.fit(X, y)\n",
        "        score = model.score(X, y)\n",
        "        if score > best_score:\n",
        "            best_score, best_params = score, params\n",
        "    return best_params\n",
        "\n",
        "# Train-test split\n",
        "X_train_b, X_test_b, y_train_b, y_test_b = train_test_split(X, y_binary, test_size=0.2, random_state=42)\n",
        "X_train_c, X_test_c, y_train_c, y_test_c = train_test_split(X, y_category, test_size=0.2, random_state=42)\n",
        "\n",
        "# Train models with optimized params\n",
        "binary_clf = make_pipeline(preprocessor,\n",
        "                          RandomForestClassifier(**quick_whale_optimize(X_train_b, y_train_b),\n",
        "                                               n_jobs=-1))\n",
        "binary_clf.fit(X_train_b, y_train_b)\n",
        "\n",
        "category_clf = make_pipeline(preprocessor,\n",
        "                            RandomForestClassifier(**quick_whale_optimize(X_train_c, y_train_c),\n",
        "                                                 n_jobs=-1))\n",
        "category_clf.fit(X_train_c, y_train_c)\n",
        "\n",
        "# Evaluate\n",
        "binary_acc = accuracy_score(y_test_b, binary_clf.predict(X_test_b))\n",
        "category_acc = accuracy_score(y_test_c, category_clf.predict(X_test_c))\n",
        "\n",
        "# Visualization\n",
        "plt.figure(figsize=(8, 4))\n",
        "plt.bar(['Binary', 'Multiclass'], [binary_acc*100, category_acc*100],\n",
        "        color=['skyblue', 'salmon'])\n",
        "plt.ylabel('Accuracy (%)')\n",
        "plt.title('Model Performance Comparison')\n",
        "plt.ylim(0, 100)\n",
        "for i, v in enumerate([binary_acc*100, category_acc*100]):\n",
        "    plt.text(i, v+1, f\"{v:.1f}%\", ha='center')\n",
        "plt.tight_layout()\n",
        "plt.savefig('quick_comparison.png', dpi=450)\n",
        "plt.show()\n",
        "\n",
        "print(f\"Binary Accuracy: {binary_acc:.2%} | Multiclass Accuracy: {category_acc:.2%}\")"
      ]
    }
  ],
  "metadata": {
    "accelerator": "GPU",
    "colab": {
      "gpuType": "T4",
      "provenance": []
    },
    "kernelspec": {
      "display_name": "Python 3",
      "name": "python3"
    },
    "language_info": {
      "name": "python"
    }
  },
  "nbformat": 4,
  "nbformat_minor": 0
}