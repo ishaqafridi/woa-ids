{
  "cells": [
    {
      "cell_type": "code",
      "source": [
        "import matplotlib.pyplot as plt\n",
        "import numpy as np\n",
        "\n",
        "# Data for the bar chart\n",
        "labels = ['AC']\n",
        "# These values are estimated from the provided image.\n",
        "# You can replace them with your actual performance metrics.\n",
        "binary_classification = [99.5]\n",
        "category_classification = [88.0]\n",
        "\n",
        "# Set the bar width and x-axis positions\n",
        "x = np.arange(len(labels))\n",
        "width = 0.35\n",
        "\n",
        "# Create the figure and axes\n",
        "fig, ax = plt.subplots(figsize=(8, 6))\n",
        "\n",
        "# Plot the bars for each classification type\n",
        "rects1 = ax.bar(x - width/2, binary_classification, width, label='Binary Classification of IoTID20')\n",
        "rects2 = ax.bar(x + width/2, category_classification, width, label='Category Classification of IoTID20')\n",
        "\n",
        "# Add labels, title, and legend\n",
        "ax.set_ylabel('%', fontsize=12)\n",
        "ax.set_title('Performance of IDS Attack Using Hybrid Random Forest Based Whale Optimization Algorithm', fontsize=14)\n",
        "ax.set_xticks(x)\n",
        "ax.set_xticklabels(labels, fontsize=12)\n",
        "ax.set_ylim(0, 110) # Set the y-axis limit for better visualization\n",
        "ax.grid(axis='y', linestyle='-', linewidth=0.5)\n",
        "ax.legend()\n",
        "\n",
        "# Function to add data labels on top of the bars\n",
        "def autolabel(rects):\n",
        "    \"\"\"Attach a text label above each bar in *rects*, displaying its height.\"\"\"\n",
        "    for rect in rects:\n",
        "        height = rect.get_height()\n",
        "        ax.annotate(f'{height:.1f}',\n",
        "                    xy=(rect.get_x() + rect.get_width() / 2, height),\n",
        "                    xytext=(0, 3),  # 3 points vertical offset\n",
        "                    textcoords=\"offset points\",\n",
        "                    ha='center', va='bottom',\n",
        "                    fontsize=10)\n",
        "\n",
        "autolabel(rects1)\n",
        "autolabel(rects2)\n",
        "\n",
        "fig.tight_layout()\n",
        "plt.show()"
      ],
      "outputs": [],
      "execution_count": null,
      "metadata": {
        "id": "v1BfcG3Mzu17"
      }
    }
  ],
  "metadata": {
    "colab": {
      "provenance": []
    },
    "kernelspec": {
      "display_name": "Python 3",
      "name": "python3"
    }
  },
  "nbformat": 4,
  "nbformat_minor": 0
}